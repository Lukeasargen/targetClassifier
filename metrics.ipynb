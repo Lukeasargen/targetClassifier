{
 "cells": [
  {
   "cell_type": "markdown",
   "metadata": {},
   "source": [
    "-visualize the metrics, confusion matrix, make jupyter notebook\n",
    "  - load model\n",
    "  - load generator\n",
    "  - evaluate x images\n",
    "  - calc metrics\n",
    "    -by task and class, accuracy, precision, recall, specificty, f1 score, matthews coreelation coefficient, confusion matrix\n",
    "  - write function that visualizes images, targets, and outputs\n",
    "    - highlight errors\n",
    "    - or only show outputs that have erros (100% accuracte labels not shown)\n"
   ]
  },
  {
   "cell_type": "code",
   "execution_count": 1,
   "metadata": {},
   "outputs": [],
   "source": [
    "# Imports\n",
    "import matplotlib.pyplot as plt\n",
    "import numpy as np\n",
    "import seaborn as sn\n",
    "from sklearn.metrics import confusion_matrix\n",
    "import torch\n",
    "import torch.nn as nn  # Building the model\n",
    "import torch.nn.functional as F\n",
    "import torchvision.transforms as T\n",
    "from torch.utils.data import DataLoader\n",
    "from torchsummary import summary\n",
    "\n",
    "from save_load import load_multitask_resnet\n",
    "from dataset import LiveTargetDataset"
   ]
  },
  {
   "cell_type": "code",
   "execution_count": 2,
   "metadata": {},
   "outputs": [
    {
     "name": "stdout",
     "output_type": "stream",
     "text": [
      "input_size : 32\n",
      "mean : [0.378 0.306 0.38 ]\n",
      "std : [0.252 0.216 0.252]\n"
     ]
    }
   ],
   "source": [
    "# Load the model\n",
    "device = torch.device('cuda:0' if torch.cuda.is_available() else 'cpu')\n",
    "path = \"runs/run0130_best_loss.pth\"\n",
    "model, input_size, mean, std = load_multitask_resnet(path, device)\n",
    "\n",
    "mean = np.array(mean)\n",
    "std = np.array(std)\n",
    "\n",
    "print(\"input_size :\", input_size)\n",
    "print(\"mean :\", mean)\n",
    "print(\"std :\", std)"
   ]
  },
  {
   "cell_type": "code",
   "execution_count": 3,
   "metadata": {},
   "outputs": [],
   "source": [
    "# Load the generator\n",
    "target_size = 30\n",
    "scale = (1.0, 1.0)\n",
    "rotation = True\n",
    "expansion_factor = 4\n",
    "val_size = 1000\n",
    "batch_size = 1"
   ]
  },
  {
   "cell_type": "code",
   "execution_count": 4,
   "metadata": {},
   "outputs": [],
   "source": [
    "val_transforms = T.Compose([\n",
    "    T.Resize((input_size)),  # Make shortest edge this size\n",
    "    T.CenterCrop(input_size),\n",
    "    T.ToTensor(),\n",
    "    T.Normalize(mean=mean, std=std)\n",
    "])\n",
    "\n",
    "val_dataset = LiveTargetDataset(transforms=val_transforms, input_size=expansion_factor*input_size,\n",
    "    target_size=expansion_factor*target_size, length=val_size, scale=scale, rotation=rotation)\n",
    "\n",
    "val_loader = DataLoader(dataset=val_dataset, batch_size=batch_size)"
   ]
  },
  {
   "cell_type": "code",
   "execution_count": 5,
   "metadata": {},
   "outputs": [],
   "source": [
    "def labels_to_words(label):\n",
    "    out = []\n",
    "    out.append(int(label[0]))\n",
    "    out.append(val_dataset.gen.shape_options[int(label[1])])\n",
    "    out.append(val_dataset.gen.letter_options[int(label[2])])\n",
    "    out.append(val_dataset.gen.color_options[int(label[3])])\n",
    "    out.append(val_dataset.gen.color_options[int(label[4])])\n",
    "    return out"
   ]
  },
  {
   "cell_type": "code",
   "execution_count": 6,
   "metadata": {},
   "outputs": [
    {
     "name": "stdout",
     "output_type": "stream",
     "text": [
      "16\n",
      "['star', 'circle', 'square', 'trapezoid', 'pentagon']\n",
      "['A', 'B', 'C', 'D', 'E', 'F', 'G', 'H']\n",
      "['white', 'black', 'red', 'blue']\n",
      "['white', 'black', 'red', 'blue']\n"
     ]
    }
   ],
   "source": [
    "print(val_dataset.gen.angle_quantization)\n",
    "print(val_dataset.gen.shape_options)\n",
    "print(val_dataset.gen.letter_options)\n",
    "print(val_dataset.gen.color_options)\n",
    "print(val_dataset.gen.color_options)"
   ]
  },
  {
   "cell_type": "code",
   "execution_count": 7,
   "metadata": {},
   "outputs": [],
   "source": [
    "# Pass all the validate data and store the predictions\n",
    "tasks_preds = np.zeros((val_size, 5))\n",
    "all_targets = np.zeros((val_size, 5))\n",
    "\n",
    "for idx, (data, target) in enumerate(val_loader):\n",
    "    all_targets[idx] = target.numpy()\n",
    "    preds = model(data)\n",
    "    for i in range(len(preds)):\n",
    "        tasks_preds[idx][i] = torch.max(preds[i], dim=1)[1]\n",
    "#     print(\"      target :\", target.squeeze().long().tolist())\n",
    "#     print(\" tasks_preds :\", tasks_preds[idx])\n"
   ]
  },
  {
   "cell_type": "code",
   "execution_count": 73,
   "metadata": {},
   "outputs": [
    {
     "name": "stdout",
     "output_type": "stream",
     "text": [
      "task 0 : tensor([ 0.6645, -0.8166, -0.6734,  0.4242,  0.3357,  0.0629, -0.7460, -0.8037,\n",
      "         0.0822, -0.4252, -0.8207,  0.3226,  1.3613,  0.3081, -0.4526,  1.1738],\n",
      "       grad_fn=<SqueezeBackward0>)\n",
      "task 1 : tensor([-0.3996, -0.4290,  0.3380,  0.5940, -0.1861],\n",
      "       grad_fn=<SqueezeBackward0>)\n",
      "task 2 : tensor([-1.8241,  1.2782, -1.3129,  0.3028,  2.3335, -1.3406,  1.4580, -0.5184],\n",
      "       grad_fn=<SqueezeBackward0>)\n",
      "task 3 : tensor([-0.7860,  0.6621, -0.8390, -0.3762], grad_fn=<SqueezeBackward0>)\n",
      "task 4 : tensor([ 0.7530, -0.1101, -0.6531, -0.4708], grad_fn=<SqueezeBackward0>)\n",
      "target:  [12.  4.  5.  3.  2.]\n",
      " preds:  [12.  3.  4.  1.  0.]\n",
      "target:  [12, 'pentagon', 'F', 'blue', 'red']\n",
      " preds:  [12, 'trapezoid', 'E', 'black', 'white']\n"
     ]
    },
    {
     "data": {
      "image/png": "[encoded data removed]",
      "text/plain": [
       "<Figure size 432x288 with 1 Axes>"
      ]
     },
     "metadata": {
      "needs_background": "light"
     },
     "output_type": "display_data"
    }
   ],
   "source": [
    "data, target = next(iter(val_loader))\n",
    "preds = model(data)\n",
    "preds_idx = np.zeros((5))\n",
    "for i in range(len(preds)):\n",
    "    preds_idx[i] = torch.max(preds[i], dim=1)[1]\n",
    "\n",
    "for i in range(len(preds)):\n",
    "    print(f\"task {i} :\", preds[i].squeeze())\n",
    "print(\"target: \", target.squeeze().numpy())\n",
    "print(\" preds: \", preds_idx)\n",
    "print(\"target: \", labels_to_words(target.squeeze().long().tolist()))\n",
    "print(\" preds: \", labels_to_words(preds_idx))\n",
    "\n",
    "img = data.squeeze()\n",
    "img = T.Normalize(-mean/std,1/std)(img)\n",
    "img = img.permute(1,2,0) \n",
    "plt.imshow(img)\n",
    "plt.show()"
   ]
  },
  {
   "cell_type": "code",
   "execution_count": 9,
   "metadata": {},
   "outputs": [],
   "source": [
    "# Make the confusion matrices\n",
    "conf_mats = [confusion_matrix(all_targets[:, i], tasks_preds[:, i]) for i in range(5)]"
   ]
  },
  {
   "cell_type": "code",
   "execution_count": 10,
   "metadata": {},
   "outputs": [
    {
     "data": {
      "text/plain": [
       "<AxesSubplot:>"
      ]
     },
     "execution_count": 10,
     "metadata": {},
     "output_type": "execute_result"
    },
    {
     "data": {
      "image/png": "[encoded data removed]",
      "text/plain": [
       "<Figure size 432x288 with 2 Axes>"
      ]
     },
     "metadata": {
      "needs_background": "light"
     },
     "output_type": "display_data"
    }
   ],
   "source": [
    "# Orientation Matrix\n",
    "sn.heatmap(conf_mats[0], square=True,\n",
    "#            cmap=\"RdYlGn\",\n",
    "           cmap=sn.color_palette(\"viridis\")\n",
    "    )"
   ]
  },
  {
   "cell_type": "code",
   "execution_count": 11,
   "metadata": {},
   "outputs": [
    {
     "data": {
      "text/plain": [
       "<AxesSubplot:>"
      ]
     },
     "execution_count": 11,
     "metadata": {},
     "output_type": "execute_result"
    },
    {
     "data": {
      "image/png": "[encoded data removed]",
      "text/plain": [
       "<Figure size 432x288 with 2 Axes>"
      ]
     },
     "metadata": {
      "needs_background": "light"
     },
     "output_type": "display_data"
    }
   ],
   "source": [
    "# Shape Matrix\n",
    "sn.heatmap(conf_mats[1], square=True,\n",
    "#            cmap=\"RdYlGn\",\n",
    "           cmap=sn.color_palette(\"viridis\")\n",
    "    )"
   ]
  },
  {
   "cell_type": "code",
   "execution_count": 12,
   "metadata": {},
   "outputs": [
    {
     "data": {
      "text/plain": [
       "<AxesSubplot:>"
      ]
     },
     "execution_count": 12,
     "metadata": {},
     "output_type": "execute_result"
    },
    {
     "data": {
      "image/png": "[encoded data removed]",
      "text/plain": [
       "<Figure size 432x288 with 2 Axes>"
      ]
     },
     "metadata": {
      "needs_background": "light"
     },
     "output_type": "display_data"
    }
   ],
   "source": [
    "# Letter Matrix\n",
    "sn.heatmap(conf_mats[2], square=True,\n",
    "#            cmap=\"RdYlGn\",\n",
    "           cmap=sn.color_palette(\"viridis\")\n",
    "    )"
   ]
  },
  {
   "cell_type": "code",
   "execution_count": 13,
   "metadata": {},
   "outputs": [
    {
     "data": {
      "text/plain": [
       "<AxesSubplot:>"
      ]
     },
     "execution_count": 13,
     "metadata": {},
     "output_type": "execute_result"
    },
    {
     "data": {
      "image/png": "[encoded data removed]",
      "text/plain": [
       "<Figure size 432x288 with 2 Axes>"
      ]
     },
     "metadata": {
      "needs_background": "light"
     },
     "output_type": "display_data"
    }
   ],
   "source": [
    "# Shape Color Matrix\n",
    "sn.heatmap(conf_mats[3], square=True,\n",
    "#            cmap=\"RdYlGn\",\n",
    "           cmap=sn.color_palette(\"viridis\")\n",
    "    )"
   ]
  },
  {
   "cell_type": "code",
   "execution_count": 14,
   "metadata": {},
   "outputs": [
    {
     "data": {
      "text/plain": [
       "<AxesSubplot:>"
      ]
     },
     "execution_count": 14,
     "metadata": {},
     "output_type": "execute_result"
    },
    {
     "data": {
      "image/png": "[encoded data removed]",
      "text/plain": [
       "<Figure size 432x288 with 2 Axes>"
      ]
     },
     "metadata": {
      "needs_background": "light"
     },
     "output_type": "display_data"
    }
   ],
   "source": [
    "# Letter Color Matrix\n",
    "sn.heatmap(conf_mats[4], square=True,\n",
    "#            cmap=\"RdYlGn\",\n",
    "           cmap=sn.color_palette(\"viridis\")\n",
    "    )"
   ]
  }
 ],
 "metadata": {
  "kernelspec": {
   "display_name": "Python 3",
   "language": "python",
   "name": "python3"
  },
  "language_info": {
   "codemirror_mode": {
    "name": "ipython",
    "version": 3
   },
   "file_extension": ".py",
   "mimetype": "text/x-python",
   "name": "python",
   "nbconvert_exporter": "python",
   "pygments_lexer": "ipython3",
   "version": "3.8.5"
  }
 },
 "nbformat": 4,
 "nbformat_minor": 4
}
